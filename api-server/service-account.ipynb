{
 "cells": [
  {
   "cell_type": "code",
   "execution_count": 1,
   "metadata": {},
   "outputs": [
    {
     "name": "stdout",
     "output_type": "stream",
     "text": [
      "NAME         STATUS   ROLES    AGE   VERSION\n",
      "10.0.16.26   Ready    master   44h   v1.14.1\n",
      "10.0.16.27   Ready    <none>   44h   v1.14.1\n"
     ]
    }
   ],
   "source": [
    "!kubectl get nodes"
   ]
  },
  {
   "cell_type": "code",
   "execution_count": 3,
   "metadata": {},
   "outputs": [
    {
     "name": "stdout",
     "output_type": "stream",
     "text": [
      "NAME                               READY   STATUS    RESTARTS   AGE\n",
      "busybox-54f48547c7-f6hxn           1/1     Running   1          12m\n",
      "nginx-deployment-f6cd585d8-c7bwl   1/1     Running   0          13m\n",
      "nginx-deployment-f6cd585d8-t8qsc   1/1     Running   0          13m\n"
     ]
    }
   ],
   "source": [
    "!kubectl get pods"
   ]
  },
  {
   "cell_type": "code",
   "execution_count": 6,
   "metadata": {},
   "outputs": [
    {
     "name": "stdout",
     "output_type": "stream",
     "text": [
      "serviceaccount/foo-service-account configured\n"
     ]
    }
   ],
   "source": [
    "!kubectl apply -f service-account.yml"
   ]
  },
  {
   "cell_type": "code",
   "execution_count": 10,
   "metadata": {},
   "outputs": [
    {
     "name": "stdout",
     "output_type": "stream",
     "text": [
      "deployment.apps/nginx-deployment unchanged\n"
     ]
    }
   ],
   "source": [
    "!kubectl apply -f nginx-deployment.yml"
   ]
  },
  {
   "cell_type": "markdown",
   "metadata": {},
   "source": [
    "1. kubctl exec into a pod using the command \n",
    "```kubectl exec nginx-deployment-f6cd585d8-c7bwl it -- /bin/bash```\n",
    "2. cd /var/run/secrets/kubernetes.io/serviceaccount\n",
    "3. cat the token file \n",
    "4. copy the content into jwt.io and inspect the contents of the token"
   ]
  },
  {
   "cell_type": "code",
   "execution_count": null,
   "metadata": {},
   "outputs": [],
   "source": []
  }
 ],
 "metadata": {
  "kernelspec": {
   "display_name": "Python 3",
   "language": "python",
   "name": "python3"
  },
  "language_info": {
   "codemirror_mode": {
    "name": "ipython",
    "version": 3
   },
   "file_extension": ".py",
   "mimetype": "text/x-python",
   "name": "python",
   "nbconvert_exporter": "python",
   "pygments_lexer": "ipython3",
   "version": "3.7.3"
  }
 },
 "nbformat": 4,
 "nbformat_minor": 2
}
