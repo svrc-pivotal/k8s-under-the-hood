{
 "cells": [
  {
   "cell_type": "markdown",
   "metadata": {},
   "source": [
    "# Services\n",
    "\n",
    "\n",
    "ClusterIP services provide a stable network identity for a set of pods.\n",
    "\n",
    "First let's deploy an NGINX farm:"
   ]
  },
  {
   "cell_type": "code",
   "execution_count": 1,
   "metadata": {},
   "outputs": [
    {
     "name": "stdout",
     "output_type": "stream",
     "text": [
      "deployment.apps/nginx-deployment created\n"
     ]
    }
   ],
   "source": [
    "kubectl apply -f nginx.yaml"
   ]
  },
  {
   "cell_type": "markdown",
   "metadata": {},
   "source": [
    "Let's inspect this deployment:\n"
   ]
  },
  {
   "cell_type": "code",
   "execution_count": 2,
   "metadata": {},
   "outputs": [
    {
     "name": "stdout",
     "output_type": "stream",
     "text": [
      "Name:                   nginx-deployment\n",
      "Namespace:              default\n",
      "CreationTimestamp:      Thu, 27 Jun 2019 10:31:26 +0000\n",
      "Labels:                 <none>\n",
      "Annotations:            deployment.kubernetes.io/revision: 1\n",
      "                        kubectl.kubernetes.io/last-applied-configuration:\n",
      "                          {\"apiVersion\":\"apps/v1\",\"kind\":\"Deployment\",\"metadata\":{\"annotations\":{},\"name\":\"nginx-deployment\",\"namespace\":\"default\"},\"spec\":{\"replica...\n",
      "Selector:               app=nginx\n",
      "Replicas:               2 desired | 2 updated | 2 total | 2 available | 0 unavailable\n",
      "StrategyType:           RollingUpdate\n",
      "MinReadySeconds:        0\n",
      "RollingUpdateStrategy:  25% max unavailable, 25% max surge\n",
      "Pod Template:\n",
      "  Labels:  app=nginx\n",
      "  Containers:\n",
      "   nginx:\n",
      "    Image:        nginx:1.7.9\n",
      "    Port:         80/TCP\n",
      "    Host Port:    0/TCP\n",
      "    Environment:  <none>\n",
      "    Mounts:       <none>\n",
      "  Volumes:        <none>\n",
      "Conditions:\n",
      "  Type           Status  Reason\n",
      "  ----           ------  ------\n",
      "  Available      True    MinimumReplicasAvailable\n",
      "  Progressing    True    NewReplicaSetAvailable\n",
      "OldReplicaSets:  <none>\n",
      "NewReplicaSet:   nginx-deployment-6dd86d77d (2/2 replicas created)\n",
      "Events:\n",
      "  Type    Reason             Age   From                   Message\n",
      "  ----    ------             ----  ----                   -------\n",
      "  Normal  ScalingReplicaSet  34s   deployment-controller  Scaled up replica set nginx-deployment-6dd86d77d to 2\n"
     ]
    }
   ],
   "source": [
    "kubectl describe deployment nginx-deployment"
   ]
  },
  {
   "cell_type": "markdown",
   "metadata": {},
   "source": [
    "Listing the pods:\n"
   ]
  },
  {
   "cell_type": "code",
   "execution_count": 5,
   "metadata": {},
   "outputs": [
    {
     "name": "stdout",
     "output_type": "stream",
     "text": [
      "NAME                               READY   STATUS    RESTARTS   AGE\n",
      "nginx-deployment-6dd86d77d-qwn2k   1/1     Running   0          2m3s\n",
      "nginx-deployment-6dd86d77d-zzgtv   1/1     Running   0          2m3s\n",
      "    podIP: 10.200.165.70\n",
      "    podIP: 10.200.165.71\n"
     ]
    }
   ],
   "source": [
    "kubectl get pods -l app=nginx\n",
    "kubectl get pods -l app=nginx -o yaml | grep ' podIP:'\n"
   ]
  },
  {
   "cell_type": "markdown",
   "metadata": {},
   "source": [
    "Creating a service:"
   ]
  },
  {
   "cell_type": "code",
   "execution_count": 7,
   "metadata": {},
   "outputs": [
    {
     "name": "stdout",
     "output_type": "stream",
     "text": [
      "service/my-nginx configured\n"
     ]
    }
   ],
   "source": [
    "kubectl apply -f nginx-service.yaml"
   ]
  },
  {
   "cell_type": "code",
   "execution_count": 8,
   "metadata": {},
   "outputs": [
    {
     "name": "stdout",
     "output_type": "stream",
     "text": [
      "NAME       TYPE        CLUSTER-IP      EXTERNAL-IP   PORT(S)   AGE\n",
      "my-nginx   ClusterIP   10.100.200.79   <none>        80/TCP    39s\n"
     ]
    }
   ],
   "source": [
    "kubectl get svc my-nginx\n"
   ]
  },
  {
   "cell_type": "code",
   "execution_count": 9,
   "metadata": {},
   "outputs": [
    {
     "name": "stdout",
     "output_type": "stream",
     "text": [
      "Name:              my-nginx\n",
      "Namespace:         default\n",
      "Labels:            run=my-nginx\n",
      "Annotations:       kubectl.kubernetes.io/last-applied-configuration:\n",
      "                     {\"apiVersion\":\"v1\",\"kind\":\"Service\",\"metadata\":{\"annotations\":{},\"labels\":{\"run\":\"my-nginx\"},\"name\":\"my-nginx\",\"namespace\":\"default\"},\"spe...\n",
      "Selector:          app=nginx\n",
      "Type:              ClusterIP\n",
      "IP:                10.100.200.79\n",
      "Port:              <unset>  80/TCP\n",
      "TargetPort:        80/TCP\n",
      "Endpoints:         10.200.165.70:80,10.200.165.71:80\n",
      "Session Affinity:  None\n",
      "Events:            <none>\n"
     ]
    }
   ],
   "source": [
    "kubectl describe svc my-nginx\n"
   ]
  },
  {
   "cell_type": "markdown",
   "metadata": {},
   "source": [
    "A service fundamentally is an mapping of a Cluster IP in the service network to a set of endpoints on the POD network:\n"
   ]
  },
  {
   "cell_type": "code",
   "execution_count": 1,
   "metadata": {},
   "outputs": [
    {
     "name": "stdout",
     "output_type": "stream",
     "text": [
      "IP:                10.100.200.79\n",
      "NAME       ENDPOINTS                           AGE\n",
      "my-nginx   10.200.165.70:80,10.200.165.71:80   6m49s\n"
     ]
    }
   ],
   "source": [
    "kubectl describe svc my-nginx | grep IP:\n",
    "kubectl get ep my-nginx\n"
   ]
  },
  {
   "cell_type": "markdown",
   "metadata": {},
   "source": [
    "Paste the following in a terminal:\n",
    "\n",
    "```\n",
    "kubectl run --generator=run-pod/v1  curl --image=radial/busyboxplus:curl -i --tty\n",
    "nslookup my-nginx     # each service gets a DNS entry per its name\n",
    "curl http://my-nginx  # should output the default web page\n",
    "exit\n",
    "```\n",
    "\n",
    "\n"
   ]
  },
  {
   "cell_type": "markdown",
   "metadata": {},
   "source": [
    "Let's explore what's on the cluster node:\n",
    "\n",
    "```\n",
    "bosh ssh worker\n",
    "sudo su\n",
    "iptables -L -t nat -n -v \n",
    "```\n",
    "\n",
    "This should output something similar to the following:\n",
    "\n",
    "```\n",
    "Chain PREROUTING (policy ACCEPT 1 packets, 40 bytes)\n",
    " pkts bytes target     prot opt in     out     source               destination\n",
    " 1268 73753 cali-PREROUTING  all  --  *      *       0.0.0.0/0            0.0.0.0/0            /* cali:6gwbT8clXdHdC1b1 */\n",
    " 1271 74892 KUBE-SERVICES  all  --  *      *       0.0.0.0/0            0.0.0.0/0            /* kubernetes service portals */\n",
    "\n",
    "Chain INPUT (policy ACCEPT 1 packets, 40 bytes)\n",
    " pkts bytes target     prot opt in     out     source               destination\n",
    "\n",
    "Chain OUTPUT (policy ACCEPT 14 packets, 844 bytes)\n",
    " pkts bytes target     prot opt in     out     source               destination\n",
    "23905 1445K cali-OUTPUT  all  --  *      *       0.0.0.0/0            0.0.0.0/0            /* cali:tVnHkvAo15HuiPy0 */\n",
    "24019 1452K KUBE-SERVICES  all  --  *      *       0.0.0.0/0            0.0.0.0/0            /* kubernetes service portals */\n",
    "\n",
    "Chain POSTROUTING (policy ACCEPT 14 packets, 844 bytes)\n",
    " pkts bytes target     prot opt in     out     source               destination\n",
    "23928 1446K cali-POSTROUTING  all  --  *      *       0.0.0.0/0            0.0.0.0/0            /* cali:O3lYWMrLQYEMJtB5 */\n",
    "24093 1457K KUBE-POSTROUTING  all  --  *      *       0.0.0.0/0            0.0.0.0/0            /* kubernetes postrouting rules */\n",
    "\n",
    "Chain KUBE-MARK-DROP (0 references)\n",
    " pkts bytes target     prot opt in     out     source               destination\n",
    "    0     0 MARK       all  --  *      *       0.0.0.0/0            0.0.0.0/0            MARK or 0x8000\n",
    "\n",
    "Chain KUBE-MARK-MASQ (18 references)\n",
    " pkts bytes target     prot opt in     out     source               destination\n",
    "    0     0 MARK       all  --  *      *       0.0.0.0/0            0.0.0.0/0            MARK or 0x4000\n",
    "\n",
    "Chain KUBE-NODEPORTS (1 references)\n",
    " pkts bytes target     prot opt in     out     source               destination\n",
    "    0     0 KUBE-MARK-MASQ  tcp  --  *      *       0.0.0.0/0            0.0.0.0/0            /* kube-system/kubernetes-dashboard: */ tcp dpt:30249\n",
    "    0     0 KUBE-SVC-XGLOHA7QRQ3V22RZ  tcp  --  *      *       0.0.0.0/0            0.0.0.0/0            /* kube-system/kubernetes-dashboard: */ tcp dpt:30249\n",
    "\n",
    "Chain KUBE-POSTROUTING (1 references)\n",
    " pkts bytes target     prot opt in     out     source               destination\n",
    "    0     0 MASQUERADE  all  --  *      *       0.0.0.0/0            0.0.0.0/0            /* kubernetes service traffic requiring SNAT */ mark match 0x4000/0x4000\n",
    "\n",
    "Chain KUBE-SEP-2Q2G5JSM4U6DJ5CG (1 references)\n",
    " pkts bytes target     prot opt in     out     source               destination\n",
    "    0     0 KUBE-MARK-MASQ  all  --  *      *       10.200.165.65        0.0.0.0/0\n",
    "    0     0 DNAT       udp  --  *      *       0.0.0.0/0            0.0.0.0/0            udp to:10.200.165.65:53\n",
    "\n",
    "Chain KUBE-SEP-7IVKYNOTO223MVHZ (1 references)\n",
    " pkts bytes target     prot opt in     out     source               destination\n",
    "    0     0 KUBE-MARK-MASQ  all  --  *      *       10.200.165.65        0.0.0.0/0\n",
    "    0     0 DNAT       tcp  --  *      *       0.0.0.0/0            0.0.0.0/0            tcp to:10.200.165.65:53\n",
    "\n",
    "Chain KUBE-SEP-AOFVCMQOP4BSPNKH (1 references)\n",
    " pkts bytes target     prot opt in     out     source               destination\n",
    "    0     0 KUBE-MARK-MASQ  all  --  *      *       10.200.165.70        0.0.0.0/0\n",
    "    0     0 DNAT       tcp  --  *      *       0.0.0.0/0            0.0.0.0/0            tcp to:10.200.165.70:80\n",
    "\n",
    "Chain KUBE-SEP-FQ4F6LUEKDKKCOMF (1 references)\n",
    " pkts bytes target     prot opt in     out     source               destination\n",
    "    0     0 KUBE-MARK-MASQ  all  --  *      *       10.200.165.68        0.0.0.0/0\n",
    "    0     0 DNAT       tcp  --  *      *       0.0.0.0/0            0.0.0.0/0            tcp to:10.200.165.68:443\n",
    "\n",
    "Chain KUBE-SEP-JKMNWT3R5EVONNDL (1 references)\n",
    " pkts bytes target     prot opt in     out     source               destination\n",
    "    0     0 KUBE-MARK-MASQ  all  --  *      *       10.200.165.67        0.0.0.0/0\n",
    "    0     0 DNAT       udp  --  *      *       0.0.0.0/0            0.0.0.0/0            udp to:10.200.165.67:53\n",
    "\n",
    "Chain KUBE-SEP-MWWFI2FSQNNTZPVG (1 references)\n",
    " pkts bytes target     prot opt in     out     source               destination\n",
    "    0     0 KUBE-MARK-MASQ  all  --  *      *       10.200.165.66        0.0.0.0/0\n",
    "    0     0 DNAT       tcp  --  *      *       0.0.0.0/0            0.0.0.0/0            tcp to:10.200.165.66:53\n",
    "\n",
    "Chain KUBE-SEP-O4OJPHL6SYITWREJ (1 references)\n",
    " pkts bytes target     prot opt in     out     source               destination\n",
    "    0     0 KUBE-MARK-MASQ  all  --  *      *       10.0.0.23            0.0.0.0/0\n",
    "    0     0 DNAT       tcp  --  *      *       0.0.0.0/0            0.0.0.0/0            tcp to:10.0.0.23:8443\n",
    "\n",
    "Chain KUBE-SEP-ORNXWSX5YDVWULHU (1 references)\n",
    " pkts bytes target     prot opt in     out     source               destination\n",
    "    0     0 KUBE-MARK-MASQ  all  --  *      *       10.200.165.67        0.0.0.0/0\n",
    "    0     0 DNAT       tcp  --  *      *       0.0.0.0/0            0.0.0.0/0            tcp to:10.200.165.67:53\n",
    "\n",
    "Chain KUBE-SEP-QVYN2TD7L6IA7X3K (1 references)\n",
    " pkts bytes target     prot opt in     out     source               destination\n",
    "    0     0 KUBE-MARK-MASQ  all  --  *      *       10.200.165.66        0.0.0.0/0\n",
    "    0     0 DNAT       udp  --  *      *       0.0.0.0/0            0.0.0.0/0            udp to:10.200.165.66:53\n",
    "\n",
    "Chain KUBE-SEP-VAZHZYTNC3JEIHVH (1 references)\n",
    " pkts bytes target     prot opt in     out     source               destination\n",
    "    0     0 KUBE-MARK-MASQ  all  --  *      *       10.200.165.71        0.0.0.0/0\n",
    "    0     0 DNAT       tcp  --  *      *       0.0.0.0/0            0.0.0.0/0            tcp to:10.200.165.71:80\n",
    "\n",
    "Chain KUBE-SEP-XXKY7ZZPXQPQ7VS6 (1 references)\n",
    " pkts bytes target     prot opt in     out     source               destination\n",
    "    0     0 KUBE-MARK-MASQ  all  --  *      *       10.200.165.69        0.0.0.0/0\n",
    "    0     0 DNAT       tcp  --  *      *       0.0.0.0/0            0.0.0.0/0            tcp to:10.200.165.69:8443\n",
    "\n",
    "Chain KUBE-SERVICES (2 references)\n",
    " pkts bytes target     prot opt in     out     source               destination\n",
    "    0     0 KUBE-MARK-MASQ  tcp  --  *      *      !10.200.0.0/16        10.100.200.2         /* kube-system/kube-dns:dns-tcp cluster IP */ tcp dpt:53\n",
    "    0     0 KUBE-SVC-ERIFXISQEP7F7OF4  tcp  --  *      *       0.0.0.0/0            10.100.200.2         /* kube-system/kube-dns:dns-tcp cluster IP*/ tcp dpt:53\n",
    "    0     0 KUBE-MARK-MASQ  udp  --  *      *      !10.200.0.0/16        10.100.200.2         /* kube-system/kube-dns:dns cluster IP */ udp dpt:53\n",
    "    0     0 KUBE-SVC-TCOU7JCQXEZGVUNU  udp  --  *      *       0.0.0.0/0            10.100.200.2         /* kube-system/kube-dns:dns cluster IP */ udp dpt:53\n",
    "    0     0 KUBE-MARK-MASQ  tcp  --  *      *      !10.200.0.0/16        10.100.200.66        /* kube-system/metrics-server: cluster IP */ tcp dpt:443\n",
    "    0     0 KUBE-SVC-LC5QY66VUV2HJ6WZ  tcp  --  *      *       0.0.0.0/0            10.100.200.66        /* kube-system/metrics-server: cluster IP */ tcp dpt:443\n",
    "    0     0 KUBE-MARK-MASQ  tcp  --  *      *      !10.200.0.0/16        10.100.200.177       /* kube-system/kubernetes-dashboard: cluster IP */ tcp dpt:443\n",
    "    0     0 KUBE-SVC-XGLOHA7QRQ3V22RZ  tcp  --  *      *       0.0.0.0/0            10.100.200.177       /* kube-system/kubernetes-dashboard: cluster IP */ tcp dpt:443\n",
    "    0     0 KUBE-MARK-MASQ  tcp  --  *      *      !10.200.0.0/16        10.100.200.79        /* default/my-nginx: cluster IP */ tcp dpt:80\n",
    "    0     0 KUBE-SVC-BEPXDJBUHFCSYIC3  tcp  --  *      *       0.0.0.0/0            10.100.200.79        /* default/my-nginx: cluster IP */ tcp dpt:80\n",
    "    0     0 KUBE-MARK-MASQ  tcp  --  *      *      !10.200.0.0/16        10.100.200.1         /* default/kubernetes:https cluster IP */ tcp dpt:443\n",
    "    0     0 KUBE-SVC-NPX46M4PTMTKRN6Y  tcp  --  *      *       0.0.0.0/0            10.100.200.1         /* default/kubernetes:https cluster IP */ tcp dpt:443\n",
    "   15   888 KUBE-NODEPORTS  all  --  *      *       0.0.0.0/0            0.0.0.0/0            /* kubernetes service nodeports; NOTE: this must be the last rule in this chain */ ADDRTYPE match dst-type LOCAL\n",
    "\n",
    "Chain KUBE-SVC-BEPXDJBUHFCSYIC3 (1 references)\n",
    " pkts bytes target     prot opt in     out     source               destination\n",
    "    0     0 KUBE-SEP-AOFVCMQOP4BSPNKH  all  --  *      *       0.0.0.0/0            0.0.0.0/0            statistic mode random probability 0.50000000000\n",
    "    0     0 KUBE-SEP-VAZHZYTNC3JEIHVH  all  --  *      *       0.0.0.0/0            0.0.0.0/0\n",
    "\n",
    "Chain KUBE-SVC-ERIFXISQEP7F7OF4 (1 references)\n",
    " pkts bytes target     prot opt in     out     source               destination\n",
    "    0     0 KUBE-SEP-7IVKYNOTO223MVHZ  all  --  *      *       0.0.0.0/0            0.0.0.0/0            statistic mode random probability 0.33332999982\n",
    "    0     0 KUBE-SEP-MWWFI2FSQNNTZPVG  all  --  *      *       0.0.0.0/0            0.0.0.0/0            statistic mode random probability 0.50000000000\n",
    "    0     0 KUBE-SEP-ORNXWSX5YDVWULHU  all  --  *      *       0.0.0.0/0            0.0.0.0/0\n",
    "\n",
    "Chain KUBE-SVC-LC5QY66VUV2HJ6WZ (1 references)\n",
    " pkts bytes target     prot opt in     out     source               destination\n",
    "    0     0 KUBE-SEP-FQ4F6LUEKDKKCOMF  all  --  *      *       0.0.0.0/0            0.0.0.0/0\n",
    "\n",
    "Chain KUBE-SVC-NPX46M4PTMTKRN6Y (1 references)\n",
    " pkts bytes target     prot opt in     out     source               destination\n",
    "    0     0 KUBE-SEP-O4OJPHL6SYITWREJ  all  --  *      *       0.0.0.0/0            0.0.0.0/0\n",
    "\n",
    "Chain KUBE-SVC-TCOU7JCQXEZGVUNU (1 references)\n",
    " pkts bytes target     prot opt in     out     source               destination\n",
    "    0     0 KUBE-SEP-2Q2G5JSM4U6DJ5CG  all  --  *      *       0.0.0.0/0            0.0.0.0/0            statistic mode random probability 0.33332999982\n",
    "    0     0 KUBE-SEP-QVYN2TD7L6IA7X3K  all  --  *      *       0.0.0.0/0            0.0.0.0/0            statistic mode random probability 0.50000000000\n",
    "    0     0 KUBE-SEP-JKMNWT3R5EVONNDL  all  --  *      *       0.0.0.0/0            0.0.0.0/0\n",
    "\n",
    "Chain KUBE-SVC-XGLOHA7QRQ3V22RZ (2 references)\n",
    " pkts bytes target     prot opt in     out     source               destination\n",
    "    0     0 KUBE-SEP-XXKY7ZZPXQPQ7VS6  all  --  *      *       0.0.0.0/0            0.0.0.0/0\n",
    "\n",
    "Chain cali-OUTPUT (1 references)\n",
    " pkts bytes target     prot opt in     out     source               destination\n",
    "23905 1445K cali-fip-dnat  all  --  *      *       0.0.0.0/0            0.0.0.0/0            /* cali:GBTAv2p5CwevEyJm */\n",
    "\n",
    "Chain cali-POSTROUTING (1 references)\n",
    " pkts bytes target     prot opt in     out     source               destination\n",
    "23928 1446K cali-fip-snat  all  --  *      *       0.0.0.0/0            0.0.0.0/0            /* cali:Z-c7XtVd2Bq7s_hA */\n",
    "23928 1446K cali-nat-outgoing  all  --  *      *       0.0.0.0/0            0.0.0.0/0            /* cali:nYKhEzDlr11Jccal */\n",
    "    0     0 MASQUERADE  all  --  *      tunl0   0.0.0.0/0            0.0.0.0/0            /* cali:SXWvdsbh4Mw7wOln */ ADDRTYPE match src-type !LOCAL limit-out ADDRTYPE match src-type LOCAL\n",
    "\n",
    "Chain cali-PREROUTING (1 references)\n",
    " pkts bytes target     prot opt in     out     source               destination\n",
    " 1268 73753 cali-fip-dnat  all  --  *      *       0.0.0.0/0            0.0.0.0/0            /* cali:r6XmIziWUJsdOK6Z */\n",
    "\n",
    "Chain cali-fip-dnat (2 references)\n",
    " pkts bytes target     prot opt in     out     source               destination\n",
    "\n",
    "Chain cali-fip-snat (1 references)\n",
    " pkts bytes target     prot opt in     out     source               destination\n",
    "\n",
    "Chain cali-nat-outgoing (1 references)\n",
    " pkts bytes target     prot opt in     out     source               destination\n",
    "   13   780 MASQUERADE  all  --  *      *       0.0.0.0/0            0.0.0.0/0            /* cali:flqWnvo8yq4ULQLa */ match-set cali40masq-ipam-pools src ! match-set cali40all-ipam-pools dst\n",
    "```\n",
    "\n",
    "Look in the KUBE-SERVICES chain above for your named service in a comment:\n",
    "\n",
    "```\n",
    "    0     0 KUBE-MARK-MASQ  tcp  --  *      *      !10.200.0.0/16        10.100.200.79        /* default/my-nginx: cluster IP */ tcp dpt:80\n",
    "    0     0 KUBE-SVC-BEPXDJBUHFCSYIC3  tcp  --  *      *       0.0.0.0/0            10.100.200.79        /* default/my-nginx: cluster IP */ tcp dpt:80\n",
    "```\n",
    "\n",
    "This shows that the service IP is being IP masqueraded (SNAT) outbound if the inbound request is OUTSIDE of the network (!10.200.0.0/16), and then is being redirected (DNAT) via the KUBE-SVC-BEPXDJBUHFCSYIC3 chain.   Your chain will be a different random string in your terminal than the one above.   Follow that down the list to find the next entry with it:\n",
    "\n",
    "```\n",
    "Chain KUBE-SVC-BEPXDJBUHFCSYIC3 (1 references)\n",
    " pkts bytes target     prot opt in     out     source               destination\n",
    "    0     0 KUBE-SEP-AOFVCMQOP4BSPNKH  all  --  *      *       0.0.0.0/0            0.0.0.0/0            statistic mode random probability 0.50000000000\n",
    "    0     0 KUBE-SEP-VAZHZYTNC3JEIHVH  all  --  *      *       0.0.0.0/0            0.0.0.0/0\n",
    "```\n",
    "\n",
    "This shows ultimately what a service usually is, a randomized dispatch table to individual pods.  Let's hunt for the targets KUBE-SEP-AOFVCMQOP4BSPNKH and KUBE-SEP-VAZHZYTNC3JEIHVH.  Again, these will be a bit differently named in your terminal.\n",
    "\n",
    "```\n",
    "Chain KUBE-SEP-AOFVCMQOP4BSPNKH (1 references)\n",
    " pkts bytes target     prot opt in     out     source               destination\n",
    "    0     0 KUBE-MARK-MASQ  all  --  *      *       10.200.165.70        0.0.0.0/0\n",
    "    0     0 DNAT       tcp  --  *      *       0.0.0.0/0            0.0.0.0/0            tcp to:10.200.165.70:80\n",
    "Chain KUBE-SEP-AOFVCMQOP4BSPNKH (1 references)\n",
    " pkts bytes target     prot opt in     out     source               destination\n",
    "    0     0 KUBE-MARK-MASQ  all  --  *      *       10.200.165.70        0.0.0.0/0\n",
    "    0     0 DNAT       tcp  --  *      *       0.0.0.0/0            0.0.0.0/0            tcp to:10.200.165.70:80\n",
    "```\n",
    "\n",
    "Finally, we see above the DNAT rule that routes the packet to the pod IPs, which whould match the podIPs you saw above."
   ]
  },
  {
   "cell_type": "code",
   "execution_count": null,
   "metadata": {},
   "outputs": [],
   "source": []
  }
 ],
 "metadata": {
  "kernelspec": {
   "display_name": "Bash",
   "language": "bash",
   "name": "bash"
  },
  "language_info": {
   "codemirror_mode": "shell",
   "file_extension": ".sh",
   "mimetype": "text/x-sh",
   "name": "bash"
  }
 },
 "nbformat": 4,
 "nbformat_minor": 2
}
