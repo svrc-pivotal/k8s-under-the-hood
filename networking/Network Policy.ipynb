{
 "cells": [
  {
   "cell_type": "markdown",
   "metadata": {},
   "source": [
    "# Get Ready\n",
    "\n",
    "## Run a sample workload"
   ]
  },
  {
   "cell_type": "code",
   "execution_count": 3,
   "metadata": {},
   "outputs": [
    {
     "name": "stdout",
     "output_type": "stream",
     "text": [
      "namespace/policy-demo created\n",
      "pod/nginx created\n"
     ]
    }
   ],
   "source": [
    "kubectl create ns policy-demo\n",
    "kubectl run --generator=run-pod/v1 --namespace=policy-demo nginx --replicas=1 --image=nginx"
   ]
  },
  {
   "cell_type": "markdown",
   "metadata": {},
   "source": [
    "determine its IP address: "
   ]
  },
  {
   "cell_type": "code",
   "execution_count": 14,
   "metadata": {},
   "outputs": [
    {
     "name": "stdout",
     "output_type": "stream",
     "text": [
      "NAME    READY   STATUS    RESTARTS   AGE     IP              NODE        NOMINATED NODE   READINESS GATES\n",
      "nginx   1/1     Running   0          2m45s   10.200.165.74   10.0.0.24   <none>           <none>\n"
     ]
    }
   ],
   "source": [
    "kubectl get pod -n policy-demo -l run=nginx -o wide"
   ]
  },
  {
   "cell_type": "markdown",
   "metadata": {},
   "source": [
    "Then try to access:\n",
    "Execute:"
   ]
  },
  {
   "cell_type": "markdown",
   "metadata": {},
   "source": [
    "(use an external terminal beside this notebook for the following)\n",
    "`kubectl run --namespace=policy-demo access --rm -ti --image busybox /bin/sh`\n",
    "Then in that container:\n",
    "`ping <PodIP>`\n",
    "\n",
    " Should see a standard response\n",
    "\n",
    "```shell\n",
    "/ # ping 10.200.85.3\n",
    "PING 10.200.85.3 (10.200.85.3): 56 data bytes\n",
    "64 bytes from 10.200.85.3: seq=28 ttl=63 time=0.172 ms\n",
    "64 bytes from 10.200.85.3: seq=29 ttl=63 time=0.107 ms\n",
    "64 bytes from 10.200.85.3: seq=30 ttl=63 time=0.096 ms\n",
    "```\n",
    "\n",
    "---\n",
    "\n",
    " # Test Isolation\n",
    "\n",
    "\n",
    "apply the following to deny Pod<->Pod communication by default in that namespace.\n",
    "```yaml\n",
    "kind: NetworkPolicy\n",
    "apiVersion: networking.k8s.io/v1\n",
    "metadata:\n",
    "  name: default-deny\n",
    "  namespace: policy-demo\n",
    "spec:\n",
    "  podSelector:\n",
    "    matchLabels: {}\n",
    "```"
   ]
  },
  {
   "cell_type": "markdown",
   "metadata": {},
   "source": [
    "Then retry test:\n",
    "\n",
    "```sh\n",
    "# Run a Pod and try to access the `nginx` Service.\n",
    "$ kubectl run --namespace=policy-demo access --rm -ti --image busybox /bin/sh\n",
    "Waiting for pod policy-demo/access-472357175-y0m47 to be running, status is Pending, pod ready: false\n",
    "\n",
    "/ # ping <PodIP>\n",
    "```\n",
    "\n",
    "Should get a timeout:\n",
    "\n",
    "```shell\n",
    "If you don't see a command prompt, try pressing enter.\n",
    "/ # ping 10.200.85.3\n",
    "PING 10.200.85.3 (10.200.85.3): 56 data bytes\n",
    "^C\n",
    "```\n",
    "\n",
    "---\n",
    "\n",
    "# Test Allow\n",
    "\n",
    "apply this to allow these specific Pods to talk\n",
    "```yaml\n",
    "kind: NetworkPolicy\n",
    "apiVersion: networking.k8s.io/v1\n",
    "metadata:\n",
    "  name: access-nginx\n",
    "  namespace: policy-demo\n",
    "spec:\n",
    "  podSelector:\n",
    "    matchLabels:\n",
    "      run: nginx\n",
    "  ingress:\n",
    "    - from:\n",
    "      - podSelector:\n",
    "          matchLabels:\n",
    "            run: access\n",
    "```\n",
    "\n",
    "Then retry test:\n",
    "\n",
    "```sh\n",
    "# Run a Pod and try to access the `nginx` Service.\n",
    "$ kubectl run --namespace=policy-demo access --rm -ti --image busybox /bin/sh\n",
    "Waiting for pod policy-demo/access-472357175-y0m47 to be running, status is Pending, pod ready: false\n",
    "\n",
    "/ # ping <PodIP>\n",
    "```\n",
    "\n",
    "Should not get a timeout:\n",
    "\n",
    "```shell\n",
    "If you don't see a command prompt, try pressing enter.\n",
    "/ # ping 10.200.85.3\n",
    "PING 10.200.85.3 (10.200.85.3): 56 data bytes\n",
    "64 bytes from 10.200.85.3: seq=28 ttl=63 time=0.172 ms\n",
    "64 bytes from 10.200.85.3: seq=29 ttl=63 time=0.107 ms\n",
    "64 bytes from 10.200.85.3: seq=30 ttl=63 time=0.096 ms\n",
    "64 bytes from 10.200.85.3: seq=31 ttl=63 time=0.100 ms\n",
    "64 bytes from 10.200.85.3: seq=32 ttl=63 time=0.091 ms\n",
    "64 bytes from 10.200.85.3: seq=33 ttl=63 time=0.180 ms\n",
    "^C\n",
    "```"
   ]
  }
 ],
 "metadata": {
  "kernelspec": {
   "display_name": "Bash",
   "language": "bash",
   "name": "bash"
  },
  "language_info": {
   "codemirror_mode": "shell",
   "file_extension": ".sh",
   "mimetype": "text/x-sh",
   "name": "bash"
  }
 },
 "nbformat": 4,
 "nbformat_minor": 2
}
