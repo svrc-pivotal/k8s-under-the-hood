{
 "cells": [
  {
   "cell_type": "markdown",
   "metadata": {},
   "source": [
    "First, create the storage class to be able to use Google native disks in our K8s cluster:\n",
    "\n"
   ]
  },
  {
   "cell_type": "code",
   "execution_count": 1,
   "metadata": {},
   "outputs": [
    {
     "name": "stdout",
     "output_type": "stream",
     "text": [
      "storageclass.storage.k8s.io/ci-storage created\n"
     ]
    }
   ],
   "source": [
    "kubectl apply -f storage-class.yaml"
   ]
  },
  {
   "cell_type": "markdown",
   "metadata": {},
   "source": [
    "Next, create a persistent volume claim , which is a volume that will survive our pods:"
   ]
  },
  {
   "cell_type": "code",
   "execution_count": 2,
   "metadata": {},
   "outputs": [
    {
     "name": "stdout",
     "output_type": "stream",
     "text": [
      "persistentvolumeclaim/ci-claim created\n"
     ]
    }
   ],
   "source": [
    "kubectl apply -f persistent-volume-claim.yaml"
   ]
  },
  {
   "cell_type": "markdown",
   "metadata": {},
   "source": [
    "Finally, let's deploy the redis guestbook with serivces and all:"
   ]
  },
  {
   "cell_type": "code",
   "execution_count": 3,
   "metadata": {},
   "outputs": [
    {
     "name": "stdout",
     "output_type": "stream",
     "text": [
      "serviceaccount/pv-guestbook-sa created\n",
      "podsecuritypolicy.policy/pv-guestbook-psp created\n",
      "role.rbac.authorization.k8s.io/psp:pv-guestbook-psp created\n",
      "rolebinding.rbac.authorization.k8s.io/psp:pv-guestbook-psp created\n",
      "service/redis-master created\n",
      "deployment.apps/redis-master created\n",
      "service/redis-slave created\n",
      "service/frontend created\n",
      "deployment.apps/frontend created\n"
     ]
    }
   ],
   "source": [
    "kubectl apply -f redis-guestbook.yaml"
   ]
  },
  {
   "cell_type": "markdown",
   "metadata": {},
   "source": [
    "This will create a public facing load balancer so you can hit the guestbook.  Wait for your External IP to be ready:"
   ]
  },
  {
   "cell_type": "code",
   "execution_count": null,
   "metadata": {},
   "outputs": [
    {
     "name": "stdout",
     "output_type": "stream",
     "text": [
      "NAME       TYPE           CLUSTER-IP       EXTERNAL-IP   PORT(S)        AGE\n",
      "frontend   LoadBalancer   10.100.200.216   <pending>     80:30293/TCP   2m11s\n"
     ]
    }
   ],
   "source": [
    "kubectl get svc -l app=guestbook --watch"
   ]
  },
  {
   "cell_type": "code",
   "execution_count": null,
   "metadata": {},
   "outputs": [],
   "source": [
    "kubectl get all"
   ]
  }
 ],
 "metadata": {
  "kernelspec": {
   "display_name": "Bash",
   "language": "bash",
   "name": "bash"
  },
  "language_info": {
   "codemirror_mode": "shell",
   "file_extension": ".sh",
   "mimetype": "text/x-sh",
   "name": "bash"
  }
 },
 "nbformat": 4,
 "nbformat_minor": 2
}
