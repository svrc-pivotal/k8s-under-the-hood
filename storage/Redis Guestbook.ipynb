{
 "cells": [
  {
   "cell_type": "markdown",
   "metadata": {},
   "source": [
    "First, create the storage class to be able to use Google native disks in our K8s cluster:\n",
    "\n"
   ]
  },
  {
   "cell_type": "code",
   "execution_count": 1,
   "metadata": {},
   "outputs": [
    {
     "name": "stdout",
     "output_type": "stream",
     "text": [
      "storageclass.storage.k8s.io/ci-storage created\n"
     ]
    }
   ],
   "source": [
    "kubectl apply -f storage-class.yaml"
   ]
  },
  {
   "cell_type": "markdown",
   "metadata": {},
   "source": [
    "Next, create a persistent volume claim , which is a volume that will survive our pods:"
   ]
  },
  {
   "cell_type": "code",
   "execution_count": 2,
   "metadata": {},
   "outputs": [
    {
     "name": "stdout",
     "output_type": "stream",
     "text": [
      "persistentvolumeclaim/ci-claim created\n"
     ]
    }
   ],
   "source": [
    "kubectl apply -f persistent-volume-claim.yaml"
   ]
  },
  {
   "cell_type": "markdown",
   "metadata": {},
   "source": [
    "Finally, let's deploy the redis guestbook with serivces and all:"
   ]
  },
  {
   "cell_type": "code",
   "execution_count": 3,
   "metadata": {},
   "outputs": [
    {
     "name": "stdout",
     "output_type": "stream",
     "text": [
      "serviceaccount/pv-guestbook-sa created\n",
      "podsecuritypolicy.policy/pv-guestbook-psp created\n",
      "role.rbac.authorization.k8s.io/psp:pv-guestbook-psp created\n",
      "rolebinding.rbac.authorization.k8s.io/psp:pv-guestbook-psp created\n",
      "service/redis-master created\n",
      "deployment.apps/redis-master created\n",
      "service/redis-slave created\n",
      "service/frontend created\n",
      "deployment.apps/frontend created\n"
     ]
    }
   ],
   "source": [
    "kubectl apply -f redis-guestbook.yaml"
   ]
  },
  {
   "cell_type": "markdown",
   "metadata": {},
   "source": [
    "This will create a public facing load balancer so you can hit the guestbook.  Wait for your External IP to be ready:"
   ]
  },
  {
   "cell_type": "code",
   "execution_count": null,
   "metadata": {},
   "outputs": [
    {
     "name": "stdout",
     "output_type": "stream",
     "text": [
      "NAME       TYPE           CLUSTER-IP       EXTERNAL-IP   PORT(S)        AGE\n",
      "frontend   LoadBalancer   10.100.200.216   <pending>     80:30293/TCP   2m11s\n"
     ]
    }
   ],
   "source": [
    "kubectl get svc -l app=guestbook --watch"
   ]
  },
  {
   "cell_type": "code",
   "execution_count": 2,
   "metadata": {},
   "outputs": [
    {
     "name": "stdout",
     "output_type": "stream",
     "text": [
      "NAME                                   READY   STATUS    RESTARTS   AGE\n",
      "pod/curl                               1/1     Running   1          53m\n",
      "pod/frontend-5787bf8dbb-d85l9          1/1     Running   0          6m34s\n",
      "pod/frontend-5787bf8dbb-dq2gb          1/1     Running   0          6m35s\n",
      "pod/frontend-5787bf8dbb-whstm          1/1     Running   0          6m34s\n",
      "pod/nginx-deployment-6dd86d77d-qwn2k   1/1     Running   0          63m\n",
      "pod/nginx-deployment-6dd86d77d-zzgtv   1/1     Running   0          63m\n",
      "pod/redis-master-5c489cbd6d-svdvz      0/1     Pending   0          6m35s\n",
      "\n",
      "\n",
      "NAME                   TYPE           CLUSTER-IP       EXTERNAL-IP   PORT(S)        AGE\n",
      "service/frontend       LoadBalancer   10.100.200.216   <pending>     80:30293/TCP   6m35s\n",
      "service/kubernetes     ClusterIP      10.100.200.1     <none>        443/TCP        6h41m\n",
      "service/my-nginx       ClusterIP      10.100.200.79    <none>        80/TCP         60m\n",
      "service/redis-master   ClusterIP      10.100.200.64    <none>        6379/TCP       6m35s\n",
      "service/redis-slave    ClusterIP      10.100.200.91    <none>        6379/TCP       6m35s\n",
      "\n",
      "\n",
      "NAME                               READY   UP-TO-DATE   AVAILABLE   AGE\n",
      "deployment.apps/frontend           3/3     3            3           6m35s\n",
      "deployment.apps/nginx-deployment   2/2     2            2           63m\n",
      "deployment.apps/redis-master       0/1     1            0           6m35s\n",
      "\n",
      "NAME                                         DESIRED   CURRENT   READY   AGE\n",
      "replicaset.apps/frontend-5787bf8dbb          3         3         3       6m35s\n",
      "replicaset.apps/nginx-deployment-6dd86d77d   2         2         2       63m\n",
      "replicaset.apps/redis-master-5c489cbd6d      1         1         0       6m35s\n",
      "\n",
      "\n",
      "\n",
      "\n"
     ]
    }
   ],
   "source": [
    "kubectl get all"
   ]
  },
  {
   "cell_type": "code",
   "execution_count": null,
   "metadata": {},
   "outputs": [],
   "source": []
  }
 ],
 "metadata": {
  "kernelspec": {
   "display_name": "Bash",
   "language": "bash",
   "name": "bash"
  },
  "language_info": {
   "codemirror_mode": "shell",
   "file_extension": ".sh",
   "mimetype": "text/x-sh",
   "name": "bash"
  }
 },
 "nbformat": 4,
 "nbformat_minor": 2
}
