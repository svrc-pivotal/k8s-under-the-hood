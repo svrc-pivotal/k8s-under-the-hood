{
 "cells": [
  {
   "cell_type": "markdown",
   "metadata": {},
   "source": [
    "# Kubernetes Under the Hood Workshop - Labs Notebook\n",
    "\n",
    "This notebook will allow you to interact with your own live kubernetes cluster.   You can open notebooks to the left as if they were interactive Wiki pages with BASH scripts and/or code snippets. \n",
    "\n",
    "Please use this link if you ever are asked to refresh materials:\n",
    "\n",
    "[Refresh materials](https://workshop.k8s.ycf.link/hub/user-redirect/git-pull?repo=https%3A%2F%2Fgithub.com%2Fsvrc-pivotal%2Fk8s-under-the-hood&urlpath=lab%2Ftree%2Fk8s-under-the-hood%2Fmaterials%2Findex.ipynb)"
   ]
  },
  {
   "cell_type": "code",
   "execution_count": 1,
   "metadata": {},
   "outputs": [
    {
     "name": "stdout",
     "output_type": "stream",
     "text": [
      "hello world!\n"
     ]
    }
   ],
   "source": [
    "echo \"hello world!\""
   ]
  }
 ],
 "metadata": {
  "kernelspec": {
   "display_name": "Bash",
   "language": "bash",
   "name": "bash"
  },
  "language_info": {
   "codemirror_mode": "shell",
   "file_extension": ".sh",
   "mimetype": "text/x-sh",
   "name": "bash"
  }
 },
 "nbformat": 4,
 "nbformat_minor": 2
}
